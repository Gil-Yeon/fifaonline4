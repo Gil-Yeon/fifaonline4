{
 "cells": [
  {
   "cell_type": "code",
   "execution_count": 1,
   "metadata": {
    "scrolled": true
   },
   "outputs": [
    {
     "name": "stdout",
     "output_type": "stream",
     "text": [
      "5카 가격을 입력하세요 :55\n",
      "4카 가격을 입력하세요 :17\n",
      "1카 가격을 입력하세요 :5\n",
      "재료값을 입력하세요 :9\n"
     ]
    },
    {
     "data": {
      "text/plain": [
       "-1.5"
      ]
     },
     "execution_count": 1,
     "metadata": {},
     "output_type": "execute_result"
    }
   ],
   "source": [
    "def 은카() :\n",
    "    a = float(input(\"5카 가격을 입력하세요 :\"))\n",
    "    b = float(input(\"4카 가격을 입력하세요 :\"))\n",
    "    c = float(input(\"1카 가격을 입력하세요 :\"))\n",
    "    d = float(input(\"재료값을 입력하세요 :\"))\n",
    "    result1 = ((a*0.8)-(b+d))*0.5-(b+d-c)*0.5\n",
    "    return result1\n",
    "은카()"
   ]
  },
  {
   "cell_type": "code",
   "execution_count": null,
   "metadata": {},
   "outputs": [],
   "source": []
  },
  {
   "cell_type": "code",
   "execution_count": null,
   "metadata": {},
   "outputs": [],
   "source": []
  },
  {
   "cell_type": "code",
   "execution_count": null,
   "metadata": {},
   "outputs": [],
   "source": []
  },
  {
   "cell_type": "code",
   "execution_count": null,
   "metadata": {},
   "outputs": [],
   "source": []
  },
  {
   "cell_type": "code",
   "execution_count": null,
   "metadata": {},
   "outputs": [],
   "source": []
  },
  {
   "cell_type": "code",
   "execution_count": null,
   "metadata": {},
   "outputs": [],
   "source": []
  },
  {
   "cell_type": "code",
   "execution_count": 1,
   "metadata": {},
   "outputs": [
    {
     "name": "stdout",
     "output_type": "stream",
     "text": [
      "4카 가격을 입력하세요 :24\n",
      "3카 가격을 입력하세요 :8\n",
      "1카 가격을 입력하세요 :1.5\n",
      "재료값을 입력하세요 :8\n"
     ]
    },
    {
     "data": {
      "text/plain": [
       "-3.171999999999998"
      ]
     },
     "execution_count": 1,
     "metadata": {},
     "output_type": "execute_result"
    }
   ],
   "source": [
    "def 사카() :\n",
    "    e = float(input(\"4카 가격을 입력하세요 :\"))\n",
    "    f = float(input(\"3카 가격을 입력하세요 :\"))\n",
    "    g = float(input(\"1카 가격을 입력하세요 :\"))\n",
    "    h = float(input(\"재료값을 입력하세요 :\"))\n",
    "    result2 = ((e*0.8)-(f+h))*0.64-(f+h-g)*0.36\n",
    "    return result2\n",
    "사카()"
   ]
  },
  {
   "cell_type": "code",
   "execution_count": null,
   "metadata": {},
   "outputs": [],
   "source": []
  },
  {
   "cell_type": "code",
   "execution_count": 3,
   "metadata": {
    "scrolled": true
   },
   "outputs": [
    {
     "name": "stdout",
     "output_type": "stream",
     "text": [
      "3카 가격을 입력하세요 :5\n",
      "2카 가격을 입력하세요 :1.5\n",
      "1카 가격을 입력하세요 :0.7\n",
      "재료값을 입력하세요 :1.5\n"
     ]
    },
    {
     "data": {
      "text/plain": [
       "0.3730000000000001"
      ]
     },
     "execution_count": 3,
     "metadata": {},
     "output_type": "execute_result"
    }
   ],
   "source": [
    "def 삼카() :\n",
    "    i = float(input(\"3카 가격을 입력하세요 :\"))\n",
    "    j = float(input(\"2카 가격을 입력하세요 :\"))\n",
    "    k = float(input(\"1카 가격을 입력하세요 :\"))\n",
    "    l = float(input(\"재료값을 입력하세요 :\"))\n",
    "    result3 = ((i*0.8)-(j+l))*0.81-(j+l-k)*0.19\n",
    "    return result3\n",
    "삼카()"
   ]
  },
  {
   "cell_type": "code",
   "execution_count": null,
   "metadata": {},
   "outputs": [],
   "source": []
  },
  {
   "cell_type": "code",
   "execution_count": null,
   "metadata": {},
   "outputs": [],
   "source": []
  },
  {
   "cell_type": "code",
   "execution_count": null,
   "metadata": {},
   "outputs": [],
   "source": []
  }
 ],
 "metadata": {
  "kernelspec": {
   "display_name": "Python 3",
   "language": "python",
   "name": "python3"
  },
  "language_info": {
   "codemirror_mode": {
    "name": "ipython",
    "version": 3
   },
   "file_extension": ".py",
   "mimetype": "text/x-python",
   "name": "python",
   "nbconvert_exporter": "python",
   "pygments_lexer": "ipython3",
   "version": "3.7.6"
  }
 },
 "nbformat": 4,
 "nbformat_minor": 4
}
